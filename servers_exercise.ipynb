{
 "cells": [
  {
   "cell_type": "code",
   "execution_count": 1,
   "metadata": {},
   "outputs": [],
   "source": [
    "\"\"\" \n",
    "initialisation - imports and data loading\n",
    "\n",
    "\"\"\"\n",
    "# imports\n",
    "\n",
    "import pandas\n",
    "import datetime\n",
    "\n",
    "# load data files and set columns names\n",
    "\n",
    "events = pandas.read_csv(\"/ServersExercise/Data/connectivity_events.csv\")\n",
    "events.columns = ['date','device_id','user_id','server_id','connection_state']\n",
    "\n",
    "servers = pandas.read_csv(\"/ServersExercise/Data/servers.csv\")\n",
    "servers.columns = ['id','created_at','destroyed_at']\n"
   ]
  },
  {
   "cell_type": "code",
   "execution_count": 38,
   "metadata": {},
   "outputs": [],
   "source": [
    "\"\"\" \n",
    "select first day from data\n",
    "\n",
    "\"\"\"\n",
    "\n",
    "# events date to datetype\n",
    "events['date'] = pandas.to_datetime(events['date'])\n",
    "\n",
    "# create column with date only\n",
    "events['date_only'] = events['date'].dt.date\n",
    "\n",
    "# get first day date beggining and end\n",
    "current_day = events.loc[0]['date_only']\n",
    "next_day = current_day + datetime.timedelta(days=1)\n",
    "\n",
    "# create one day mask - set True to events that are in selected timeframe\n",
    "one_day_mask = (events['date_only'] >= current_day) & (events['date_only'] < next_day)\n",
    "\n",
    "# select first day\n",
    "one_day_events = events.loc[one_day_mask]\n"
   ]
  },
  {
   "cell_type": "code",
   "execution_count": 39,
   "metadata": {},
   "outputs": [],
   "source": [
    "# return list of devices first connection only\n",
    "def get_first_connections(events_list):\n",
    "    # list devices\n",
    "    one_day_devices = events_list['device_id']\n",
    "    \n",
    "    # get dictionary of first device connection\n",
    "    only_first_device_connection_dict = one_day_devices.drop_duplicates()\n",
    "    \n",
    "    # deictionary - data frame \n",
    "    only_first_device_connection = pandas.DataFrame(list(only_first_device_connection_dict.items()), columns = ['original_id','device'])\n",
    "    \n",
    "    return only_first_device_connection\n"
   ]
  },
  {
   "cell_type": "code",
   "execution_count": 40,
   "metadata": {},
   "outputs": [],
   "source": [
    "# return list of events with first connection only\n",
    "def only_first_con_events(events_list):\n",
    "    # get devices dictionary\n",
    "    first_con_device_dict = get_first_connections(events_list)\n",
    "    \n",
    "    # build first connection events id's list\n",
    "    first_con_ids = first_con_device_dict['original_id'].values.tolist()\n",
    "    \n",
    "    return events_list.iloc[first_con_ids]\n",
    "\n"
   ]
  },
  {
   "cell_type": "code",
   "execution_count": 75,
   "metadata": {},
   "outputs": [],
   "source": [
    "# calculate number of devices used by one user\n",
    "def calculate_users_devices(events_list):\n",
    "    first_connections = only_first_con_events(events_list)\n",
    "    \n",
    "    temp_dict = {}\n",
    "    temp_first_connections.apply(add_user_device, 'columns',  users_dict=temp_dict)\n",
    "    return temp_dict\n",
    "    \n",
    "\n",
    "\n",
    "# fucntion to be used in apply to sum up number of users devices\n",
    "def add_user_device(row, users_dict):\n",
    "    user_index = row[2]\n",
    "    device_index = row[1]\n",
    "    if user_index in users_dict:\n",
    "        users_dict[user_index] += 1\n",
    "    else:\n",
    "        users_dict[user_index] = 1\n",
    "\n",
    "     "
   ]
  },
  {
   "cell_type": "code",
   "execution_count": 76,
   "metadata": {},
   "outputs": [
    {
     "data": {
      "text/plain": [
       "{1: 131,\n",
       " 2: 1,\n",
       " 3: 1,\n",
       " 4: 39,\n",
       " 5: 6,\n",
       " 6: 4,\n",
       " 7: 1,\n",
       " 8: 1,\n",
       " 9: 1,\n",
       " 10: 4,\n",
       " 11: 2,\n",
       " 12: 2,\n",
       " 13: 2,\n",
       " 14: 3,\n",
       " 15: 2,\n",
       " 16: 1,\n",
       " 17: 5,\n",
       " 18: 1,\n",
       " 19: 1,\n",
       " 20: 1,\n",
       " 21: 1,\n",
       " 22: 1,\n",
       " 23: 1,\n",
       " 24: 2,\n",
       " 25: 1,\n",
       " 26: 4,\n",
       " 27: 4,\n",
       " 28: 1,\n",
       " 29: 1,\n",
       " 30: 1,\n",
       " 31: 1,\n",
       " 32: 1,\n",
       " 33: 1,\n",
       " 34: 1,\n",
       " 35: 3,\n",
       " 36: 1,\n",
       " 37: 1,\n",
       " 38: 1,\n",
       " 39: 9,\n",
       " 40: 1,\n",
       " 41: 2,\n",
       " 42: 1,\n",
       " 43: 2,\n",
       " 44: 1,\n",
       " 45: 2,\n",
       " 46: 3,\n",
       " 47: 1,\n",
       " 48: 1,\n",
       " 49: 1,\n",
       " 50: 2,\n",
       " 51: 1,\n",
       " 52: 1,\n",
       " 53: 1,\n",
       " 54: 1,\n",
       " 55: 1,\n",
       " 56: 1,\n",
       " 57: 1,\n",
       " 58: 1,\n",
       " 59: 1}"
      ]
     },
     "execution_count": 76,
     "metadata": {},
     "output_type": "execute_result"
    }
   ],
   "source": [
    "# calculate_users_devices(one_day_events)"
   ]
  },
  {
   "cell_type": "code",
   "execution_count": null,
   "metadata": {},
   "outputs": [],
   "source": []
  }
 ],
 "metadata": {
  "kernelspec": {
   "display_name": "Python 2",
   "language": "python",
   "name": "python2"
  },
  "language_info": {
   "codemirror_mode": {
    "name": "ipython",
    "version": 2
   },
   "file_extension": ".py",
   "mimetype": "text/x-python",
   "name": "python",
   "nbconvert_exporter": "python",
   "pygments_lexer": "ipython2",
   "version": "2.7.16"
  }
 },
 "nbformat": 4,
 "nbformat_minor": 2
}
