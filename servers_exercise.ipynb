{
 "cells": [
  {
   "cell_type": "code",
   "execution_count": 2,
   "metadata": {},
   "outputs": [],
   "source": [
    "\n",
    "# imports\n",
    "\n",
    "import pandas\n",
    "import datetime\n",
    "from matplotlib import pyplot, figure"
   ]
  },
  {
   "cell_type": "code",
   "execution_count": 3,
   "metadata": {},
   "outputs": [],
   "source": [
    "\"\"\" \n",
    "configuration\n",
    "\"\"\"\n",
    "\n",
    "fleet_sizes = {\n",
    "    1:[1,2],\n",
    "    2:[3,9],\n",
    "    3:[10,99],\n",
    "    4:[100,999]   \n",
    "}"
   ]
  },
  {
   "cell_type": "code",
   "execution_count": 4,
   "metadata": {},
   "outputs": [],
   "source": [
    "\"\"\" \n",
    "data loading\n",
    "\"\"\"\n",
    "\n",
    "\n",
    "# load data files and set columns names\n",
    "\n",
    "events = pandas.read_csv(\"/ServersExercise/Data/connectivity_events.csv\")\n",
    "events.columns = ['date','device_id','user_id','server_id','connection_state']\n",
    "\n",
    "servers = pandas.read_csv(\"/ServersExercise/Data/servers.csv\")\n",
    "servers.columns = ['id','created_at','destroyed_at']\n",
    "\n"
   ]
  },
  {
   "cell_type": "code",
   "execution_count": 5,
   "metadata": {},
   "outputs": [],
   "source": [
    "\"\"\" \n",
    "select first day from data\n",
    "\n",
    "no need to run this!\n",
    "\n",
    "not necessary, for whole program\n",
    "kept here to be able to test app improvements on one day only.\n",
    "\"\"\"\n",
    "\n",
    "# events date to datetype\n",
    "events['date'] = pandas.to_datetime(events['date'])\n",
    "\n",
    "# create column with date only\n",
    "events['date_only'] = events['date'].dt.date\n",
    "\n",
    "# get first day date beggining and end\n",
    "current_day = events.loc[0]['date_only']\n",
    "next_day = current_day + datetime.timedelta(days=1)\n",
    "\n",
    "# create one day mask - set True to events that are in selected timeframe\n",
    "one_day_mask = (events['date_only'] >= current_day) & (events['date_only'] < next_day)\n",
    "\n",
    "# select first day\n",
    "one_day_events = events.loc[one_day_mask]\n"
   ]
  },
  {
   "cell_type": "code",
   "execution_count": 6,
   "metadata": {},
   "outputs": [],
   "source": [
    "\"\"\" \n",
    "get data frame only with devices first connection\n",
    "\"\"\"\n",
    "\n",
    "# return list of devices first connection only\n",
    "def get_first_connections(events_list):\n",
    "    # list devices\n",
    "    one_day_devices = events_list['device_id']\n",
    "    \n",
    "    # get dictionary of first device connection\n",
    "    only_first_device_connection_dict = one_day_devices.drop_duplicates()\n",
    "    \n",
    "    # deictionary - data frame \n",
    "    only_first_device_connection = pandas.DataFrame(list(only_first_device_connection_dict.items()), columns = ['original_id','device'])\n",
    "    return only_first_device_connection\n"
   ]
  },
  {
   "cell_type": "code",
   "execution_count": 7,
   "metadata": {},
   "outputs": [],
   "source": [
    "\"\"\"\n",
    "get data frame with events with devices first connection of \n",
    "\"\"\"\n",
    "\n",
    "# return list of events with first connection only\n",
    "def only_first_con_events(events_list):\n",
    "    # get devices dictionary\n",
    "    first_con_device_dict = get_first_connections(events_list)\n",
    "    # build first connection events id's list\n",
    "    first_con_ids = first_con_device_dict['original_id'].values.tolist()\n",
    "    return events.iloc[first_con_ids]\n",
    "\n"
   ]
  },
  {
   "cell_type": "code",
   "execution_count": 8,
   "metadata": {},
   "outputs": [],
   "source": [
    "\"\"\"\n",
    "calculate number of devices for every user\n",
    "\"\"\"\n",
    "\n",
    "# calculate number of devices used by every user\n",
    "def calculate_users_devices(events_list):\n",
    "    # first device connection data set\n",
    "    first_connections = only_first_con_events(events_list)\n",
    "    # user:number of devices\n",
    "    temp_dict = {}\n",
    "    # build dictionary\n",
    "    first_connections.apply(add_user_device, 'columns',  users_dict=temp_dict)\n",
    "    return temp_dict\n",
    "    \n",
    "\n",
    "\n",
    "# fucntion used in apply to sum up number of users devices\n",
    "def add_user_device(row, users_dict):\n",
    "    user_index = row[2]\n",
    "    device_index = row[1]\n",
    "    if user_index in users_dict:\n",
    "        users_dict[user_index] += 1\n",
    "    else:\n",
    "        users_dict[user_index] = 1\n",
    "\n",
    "     "
   ]
  },
  {
   "cell_type": "code",
   "execution_count": 9,
   "metadata": {},
   "outputs": [],
   "source": [
    "\"\"\"\n",
    "match results with fleet sizes\n",
    "\"\"\"\n",
    "\n",
    "# set users to fleet sizes\n",
    "def check_users_fleet_sizes(events_list):\n",
    "    devices_dict = calculate_users_devices(events_list)\n",
    "    # dictionary to df\n",
    "    devices = pandas.DataFrame.from_dict(devices_dict, orient='index')\n",
    "    # init dictonary with fleets sizes\n",
    "    numbers_of_fleets = {\n",
    "        1:0,\n",
    "        2:0,\n",
    "        3:0,\n",
    "        4:0  \n",
    "    } \n",
    "\n",
    "    \n",
    "    devices.apply(assign_to_fleet_size, 'columns', fleets_dict=numbers_of_fleets)\n",
    "    return numbers_of_fleets\n",
    "    \n",
    "    \n",
    "# function used in apply to assign user to matching fleet size\n",
    "def assign_to_fleet_size(row, fleets_dict):\n",
    "    number_of_devices = row[0]\n",
    "    for key in fleet_sizes:\n",
    "        if check_fleet_size(number_of_devices,fleet_sizes[key]):\n",
    "            fleets_dict[key] += 1\n",
    "            break\n",
    "            \n",
    "    \n",
    "# returns bolean if specified number of devices matches selected fleet size\n",
    "def check_fleet_size(number_of_devices, fleet_description):\n",
    "    return fleet_description[0] <= number_of_devices <= fleet_description[1]\n"
   ]
  },
  {
   "cell_type": "code",
   "execution_count": 10,
   "metadata": {},
   "outputs": [],
   "source": [
    "\"\"\"\n",
    "find number of days\n",
    "\"\"\"\n",
    "# first and last event date\n",
    "first_day = events['date'][events.index[0]]\n",
    "last_day = events['date'][events.index[-1]]\n",
    "# convert those dates to datetime\n",
    "first_day_datetime = pandas.to_datetime(first_day)\n",
    "last_day_datetime = pandas.to_datetime(last_day)\n",
    "# find timedelta\n",
    "events_timedelta = last_day_datetime - first_day_datetime\n",
    "# find number of days\n",
    "number_of_days = events_timedelta.days\n"
   ]
  },
  {
   "cell_type": "code",
   "execution_count": 11,
   "metadata": {},
   "outputs": [],
   "source": [
    "\"\"\"\n",
    "iterate through all days to gather the data\n",
    "\"\"\"\n",
    "\n",
    "# events date to datetype\n",
    "events['date'] = pandas.to_datetime(events['date'])\n",
    "# create column with date only\n",
    "events['date_only'] = events['date'].dt.date\n",
    "# get first day\n",
    "current_day = events.loc[0]['date_only']\n",
    "\n",
    "all_days_list = []\n",
    "# iterate through all days\n",
    "for day in range(number_of_days):\n",
    "    # get current day end\n",
    "    next_day = current_day + datetime.timedelta(days=1)\n",
    "    # create one day mask - set True to events that are in selected timeframe\n",
    "    one_day_mask = (events['date_only'] >= current_day) & (events['date_only'] < next_day)\n",
    "    # select first day\n",
    "    one_day_events = events.loc[one_day_mask]\n",
    "    # get fleet sizes\n",
    "    fleet_size = check_users_fleet_sizes(one_day_events)\n",
    "    \n",
    "    all_days_list.append(fleet_size)\n",
    "    current_day = next_day\n",
    "    \n",
    "\n",
    "# !!! ToDo\n",
    "# matplotlib - list of dictionaries\n",
    "    \n",
    "    \n",
    "    "
   ]
  },
  {
   "cell_type": "code",
   "execution_count": 12,
   "metadata": {},
   "outputs": [
    {
     "data": {
      "image/png": "[encoded data removed]",
      "text/plain": [
       "<Figure size 432x288 with 1 Axes>"
      ]
     },
     "metadata": {
      "needs_background": "light"
     },
     "output_type": "display_data"
    },
    {
     "data": {
      "text/plain": [
       "<Figure size 2000x2400 with 0 Axes>"
      ]
     },
     "metadata": {},
     "output_type": "display_data"
    }
   ],
   "source": [
    "group1 = []\n",
    "group2 = []\n",
    "group3 = []\n",
    "group4 = []\n",
    "x = []\n",
    "for ndx, day in enumerate(all_days_list):\n",
    "    group1.append(day[1])\n",
    "    group2.append(day[2])\n",
    "    group3.append(day[3]) \n",
    "    group4.append(day[4])\n",
    "    x.append(ndx)\n",
    "    \n",
    "\n",
    "ind = len(all_days_list)\n",
    "\n",
    "width = 0.4\n",
    "plot1 = pyplot.bar(x, group1, width)\n",
    "plot2 =  pyplot.bar(x, group2, width)\n",
    "plot3 = pyplot.bar(x, group3, width)\n",
    "plot4 =  pyplot.bar(x, group4, width)\n",
    "pyplot.figure(figsize=(5,6), dpi=400)\n",
    "pyplot.show()\n",
    "    \n"
   ]
  },
  {
   "cell_type": "code",
   "execution_count": null,
   "metadata": {},
   "outputs": [],
   "source": [
    "\n"
   ]
  }
 ],
 "metadata": {
  "kernelspec": {
   "display_name": "Python 2",
   "language": "python",
   "name": "python2"
  },
  "language_info": {
   "codemirror_mode": {
    "name": "ipython",
    "version": 2
   },
   "file_extension": ".py",
   "mimetype": "text/x-python",
   "name": "python",
   "nbconvert_exporter": "python",
   "pygments_lexer": "ipython2",
   "version": "2.7.16"
  }
 },
 "nbformat": 4,
 "nbformat_minor": 2
}
