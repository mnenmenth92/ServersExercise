{
 "cells": [
  {
   "cell_type": "code",
   "execution_count": 1,
   "metadata": {},
   "outputs": [],
   "source": [
    "\"\"\" \n",
    "initialisation - imports and data loading\n",
    "\n",
    "\"\"\"\n",
    "# imports\n",
    "\n",
    "import pandas\n",
    "import datetime\n",
    "\n",
    "# load data files and set columns names\n",
    "\n",
    "events = pandas.read_csv(\"/ServersExercise/Data/connectivity_events.csv\")\n",
    "events.columns = ['date','device_id','user_id','server_id','connection_state']\n",
    "\n",
    "servers = pandas.read_csv(\"/ServersExercise/Data/servers.csv\")\n",
    "servers.columns = ['id','created_at','destroyed_at']\n"
   ]
  },
  {
   "cell_type": "code",
   "execution_count": 79,
   "metadata": {},
   "outputs": [],
   "source": [
    "\"\"\" \n",
    "configuration\n",
    "\n",
    "\"\"\"\n",
    "\n",
    "fleet_sizes = {\n",
    "    1:[1,2],\n",
    "    2:[3,9],\n",
    "    3:[10,99],\n",
    "    4:[100,999]   \n",
    "}"
   ]
  },
  {
   "cell_type": "code",
   "execution_count": 38,
   "metadata": {},
   "outputs": [],
   "source": [
    "\"\"\" \n",
    "select first day from data\n",
    "\n",
    "\"\"\"\n",
    "\n",
    "# events date to datetype\n",
    "events['date'] = pandas.to_datetime(events['date'])\n",
    "\n",
    "# create column with date only\n",
    "events['date_only'] = events['date'].dt.date\n",
    "\n",
    "# get first day date beggining and end\n",
    "current_day = events.loc[0]['date_only']\n",
    "next_day = current_day + datetime.timedelta(days=1)\n",
    "\n",
    "# create one day mask - set True to events that are in selected timeframe\n",
    "one_day_mask = (events['date_only'] >= current_day) & (events['date_only'] < next_day)\n",
    "\n",
    "# select first day\n",
    "one_day_events = events.loc[one_day_mask]\n"
   ]
  },
  {
   "cell_type": "code",
   "execution_count": 39,
   "metadata": {},
   "outputs": [],
   "source": [
    "# return list of devices first connection only\n",
    "def get_first_connections(events_list):\n",
    "    # list devices\n",
    "    one_day_devices = events_list['device_id']\n",
    "    \n",
    "    # get dictionary of first device connection\n",
    "    only_first_device_connection_dict = one_day_devices.drop_duplicates()\n",
    "    \n",
    "    # deictionary - data frame \n",
    "    only_first_device_connection = pandas.DataFrame(list(only_first_device_connection_dict.items()), columns = ['original_id','device'])\n",
    "    \n",
    "    return only_first_device_connection\n"
   ]
  },
  {
   "cell_type": "code",
   "execution_count": 40,
   "metadata": {},
   "outputs": [],
   "source": [
    "# return list of events with first connection only\n",
    "def only_first_con_events(events_list):\n",
    "    # get devices dictionary\n",
    "    first_con_device_dict = get_first_connections(events_list)\n",
    "    \n",
    "    # build first connection events id's list\n",
    "    first_con_ids = first_con_device_dict['original_id'].values.tolist()\n",
    "    \n",
    "    return events_list.iloc[first_con_ids]\n",
    "\n"
   ]
  },
  {
   "cell_type": "code",
   "execution_count": 75,
   "metadata": {},
   "outputs": [],
   "source": [
    "# calculate number of devices used by one user\n",
    "def calculate_users_devices(events_list):\n",
    "    # first device connection data set\n",
    "    first_connections = only_first_con_events(events_list)\n",
    "    # user:number of devices\n",
    "    temp_dict = {}\n",
    "    # build dictionary\n",
    "    temp_first_connections.apply(add_user_device, 'columns',  users_dict=temp_dict)\n",
    "    return temp_dict\n",
    "    \n",
    "\n",
    "\n",
    "# fucntion used in apply to sum up number of users devices\n",
    "def add_user_device(row, users_dict):\n",
    "    user_index = row[2]\n",
    "    device_index = row[1]\n",
    "    if user_index in users_dict:\n",
    "        users_dict[user_index] += 1\n",
    "    else:\n",
    "        users_dict[user_index] = 1\n",
    "\n",
    "     "
   ]
  },
  {
   "cell_type": "code",
   "execution_count": 103,
   "metadata": {},
   "outputs": [],
   "source": [
    "# set users to fleet sizes\n",
    "def check_users_fleet_sizes(events_list):\n",
    "    devices_dict = calculate_users_devices(events_list)\n",
    "    # dictionary to df\n",
    "    devices = pandas.DataFrame.from_dict(devices_dict, orient='index')\n",
    "    # init dictonary with fleets sizes\n",
    "    numbers_of_fleets = {\n",
    "        1:0,\n",
    "        2:0,\n",
    "        3:0,\n",
    "        4:0  \n",
    "    } \n",
    "\n",
    "    \n",
    "    devices.apply(assign_to_fleet_size, 'columns', fleets_dict=numbers_of_fleets)\n",
    "    return numbers_of_fleets\n",
    "    \n",
    "    \n",
    "# function used in apply to assign user to matching fleet size\n",
    "def assign_to_fleet_size(row, fleets_dict):\n",
    "    number_of_devices = row[0]\n",
    "    for key in fleet_sizes:\n",
    "        if check_fleet_size(number_of_devices,fleet_sizes[key]):\n",
    "            fleets_dict[key] += 1\n",
    "            break\n",
    "            \n",
    "    \n",
    "# returns bolean if specified number of devices matches selected fleet size\n",
    "def check_fleet_size(number_of_devices, fleet_description):\n",
    "    return fleet_description[0] <= number_of_devices <= fleet_description[1]\n",
    "\n",
    "\n"
   ]
  },
  {
   "cell_type": "code",
   "execution_count": 104,
   "metadata": {},
   "outputs": [
    {
     "data": {
      "text/plain": [
       "{1: 47, 2: 10, 3: 1, 4: 1}"
      ]
     },
     "execution_count": 104,
     "metadata": {},
     "output_type": "execute_result"
    }
   ],
   "source": [
    "# check\n",
    "check_users_fleet_sizes(one_day_events)"
   ]
  },
  {
   "cell_type": "code",
   "execution_count": null,
   "metadata": {},
   "outputs": [],
   "source": []
  }
 ],
 "metadata": {
  "kernelspec": {
   "display_name": "Python 2",
   "language": "python",
   "name": "python2"
  },
  "language_info": {
   "codemirror_mode": {
    "name": "ipython",
    "version": 2
   },
   "file_extension": ".py",
   "mimetype": "text/x-python",
   "name": "python",
   "nbconvert_exporter": "python",
   "pygments_lexer": "ipython2",
   "version": "2.7.16"
  }
 },
 "nbformat": 4,
 "nbformat_minor": 2
}
