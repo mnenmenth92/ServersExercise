{
 "cells": [
  {
   "cell_type": "code",
   "execution_count": 2,
   "metadata": {},
   "outputs": [],
   "source": [
    "\"\"\" \n",
    "initialisation - imports and data loading\n",
    "\n",
    "\"\"\"\n",
    "# imports\n",
    "\n",
    "import pandas\n",
    "import datetime\n",
    "\n",
    "# load data files and set columns names\n",
    "\n",
    "events = pandas.read_csv(\"/ServersExercise/Data/connectivity_events.csv\")\n",
    "events.columns = ['date','device_id','user_id','server_id','connection_state']\n",
    "\n",
    "servers = pandas.read_csv(\"/ServersExercise/Data/servers.csv\")\n",
    "servers.columns = ['id','created_at','destroyed_at']\n"
   ]
  },
  {
   "cell_type": "code",
   "execution_count": 30,
   "metadata": {},
   "outputs": [],
   "source": [
    "\"\"\" \n",
    "select first day from data\n",
    "\n",
    "\"\"\"\n",
    "\n",
    "# events date to datetype\n",
    "events['date'] = pandas.to_datetime(events['date'])\n",
    "\n",
    "# create column with date only\n",
    "events['date_only'] = events['date'].dt.date\n",
    "\n",
    "# get first day date beggining and end\n",
    "current_day = events.loc[0]['date_only']\n",
    "next_day = current_day + datetime.timedelta(days=1)\n",
    "\n",
    "# create one day mask - set True to events that are in selected timeframe\n",
    "one_day_mask = (events['date_only'] >= current_day) & (events['date_only'] < next_day)\n",
    "\n",
    "# select first day\n",
    "one_day_events = events.loc[one_day_mask]\n"
   ]
  },
  {
   "cell_type": "code",
   "execution_count": 39,
   "metadata": {},
   "outputs": [],
   "source": [
    "# return list of events with first connection only\n",
    "def get_first_connections(events_list):\n",
    "    one_day_devices = events_list['device_id']\n",
    "    only_first_device_connection_dict = one_day_devices.drop_duplicates()\n",
    "    only_first_device_connection = pandas.DataFrame(list(only_first_device_connection_dict.items()), columns = ['original_id','device'])\n",
    "    return only_first_device_connection\n"
   ]
  },
  {
   "cell_type": "code",
   "execution_count": null,
   "metadata": {},
   "outputs": [],
   "source": [
    "\n",
    "\n",
    "\n",
    "\n",
    "# users dictionary initialisation\n",
    "user_dic = {}\n",
    "\n",
    "def calculate_users_devices(event):\n",
    "    \n",
    "    "
   ]
  }
 ],
 "metadata": {
  "kernelspec": {
   "display_name": "Python 2",
   "language": "python",
   "name": "python2"
  },
  "language_info": {
   "codemirror_mode": {
    "name": "ipython",
    "version": 2
   },
   "file_extension": ".py",
   "mimetype": "text/x-python",
   "name": "python",
   "nbconvert_exporter": "python",
   "pygments_lexer": "ipython2",
   "version": "2.7.16"
  }
 },
 "nbformat": 4,
 "nbformat_minor": 2
}
